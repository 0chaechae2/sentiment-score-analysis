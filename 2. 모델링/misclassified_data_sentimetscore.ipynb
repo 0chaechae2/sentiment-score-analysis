{
 "cells": [
  {
   "cell_type": "code",
   "execution_count": null,
   "metadata": {},
   "outputs": [],
   "source": [
    "# 실제로는 긍정 클래스지만, 모델이 부정으로 분류한 데이터 필터링\n",
    "misclassified_indices = (y_test == 1) & (y_pred == 0)\n",
    "misclassified_data = pd.DataFrame({\n",
    "    'review': df.iloc[y_test.index]['reviews'],\n",
    "    'rank' : df.iloc[y_test.index]['ratings'],\n",
    "    'Actual Label': y_test,\n",
    "    'Predicted Label': y_pred,\n",
    "    'tokenized' : df.iloc[y_test.index]['tokenized'].apply(''.join())\n",
    "}).loc[misclassified_indices]\n",
    "\n",
    "# 잘못 분류된 데이터 출력\n",
    "print(\"Misclassified Data (Actual Negative, Predicted Positive):\")\n",
    "print(misclassified_data)"
   ]
  },
  {
   "cell_type": "code",
   "execution_count": null,
   "metadata": {},
   "outputs": [],
   "source": [
    "# 데이터프레임에 감성 점수를 계산하여 새 열로 추가\n",
    "misclassified_data['Raw Sentiment Score'], misclassified_data['Normalized Sentiment Score'] = zip(*misclassified_data['review'].apply(lambda x: calculate_sentiment_score(x, coef_dict)))\n",
    "\n",
    "# 결과 확인\n",
    "print(misclassified_data)"
   ]
  },
  {
   "cell_type": "code",
   "execution_count": null,
   "metadata": {},
   "outputs": [],
   "source": [
    "misclassified_data.head()"
   ]
  },
  {
   "cell_type": "code",
   "execution_count": null,
   "metadata": {},
   "outputs": [],
   "source": [
    "misclassified_data.to_csv(\"misclassified_data_감성점수_정규표현식_반올림.csv\", index=True, encoding = 'utf-8-sig')"
   ]
  }
 ],
 "metadata": {
  "language_info": {
   "name": "python"
  }
 },
 "nbformat": 4,
 "nbformat_minor": 2
}
