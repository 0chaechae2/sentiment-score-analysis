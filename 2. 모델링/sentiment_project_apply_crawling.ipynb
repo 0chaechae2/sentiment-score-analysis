{
 "cells": [
  {
   "cell_type": "markdown",
   "metadata": {},
   "source": [
    "## 모델 검증 - 크롤링 데이터에 감성 점수 적용"
   ]
  },
  {
   "cell_type": "code",
   "execution_count": null,
   "metadata": {},
   "outputs": [],
   "source": [
    "df_멜라스틱 = pd.read_csv('크롤링데이터.csv')\n",
    "df_멜라스틱.head()"
   ]
  },
  {
   "cell_type": "code",
   "execution_count": null,
   "metadata": {},
   "outputs": [],
   "source": [
    "df_멜라스틱 = df_멜라스틱.drop(['Unnamed: 0'], axis = 1)\n",
    "df_멜라스틱"
   ]
  },
  {
   "cell_type": "code",
   "execution_count": null,
   "metadata": {},
   "outputs": [],
   "source": [
    "def calculate_sentiment_score_2(text, coef_dict):\n",
    "    \n",
    "    #정규표현식 사용하여 한글 제외 모두 제거\n",
    "    text = re.sub(r\"[^ㄱ-ㅎㅏ-ㅣ가-힣 ]\", \"\", text)\n",
    "\n",
    "    sentence = okt.morphs(text) # 토큰화\n",
    "    tokens = [word for word in sentence if not word in stopwords]\n",
    "    score = sum(coef_dict.get(token, 0) for token in tokens)\n",
    "    \n",
    "    # 감성 점수를 0에서 10 사이의 값으로 정규화\n",
    "    min_score = -10  # 최소 점수\n",
    "    max_score = 10   # 최대 점수\n",
    "    normalized_score = 10 * (score - min_score) / (max_score - min_score)\n",
    "    \n",
    "    # 0과 10 사이로 클리핑\n",
    "    normalized_score = max(0, min(10, normalized_score))\n",
    "    \n",
    "    return normalized_score\n",
    "\n",
    "\n",
    "df_멜라스틱['sentiment_score'] = df_멜라스틱['review'].apply(lambda x : calculate_sentiment_score_2(x, coef_dict))"
   ]
  },
  {
   "cell_type": "code",
   "execution_count": null,
   "metadata": {},
   "outputs": [],
   "source": [
    "df_멜라스틱 = df_멜라스틱.sort_values('sentiment_score')"
   ]
  },
  {
   "cell_type": "code",
   "execution_count": null,
   "metadata": {},
   "outputs": [],
   "source": [
    "df_멜라스틱.to_csv('크롤링데이터_감성점수_멜라스틱.csv', encoding = 'utf-8-s"
   ]
  }
 ],
 "metadata": {
  "language_info": {
   "name": "python"
  }
 },
 "nbformat": 4,
 "nbformat_minor": 2
}
